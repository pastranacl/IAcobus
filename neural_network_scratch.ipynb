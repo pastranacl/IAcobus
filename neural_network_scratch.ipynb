{
 "cells": [
  {
   "cell_type": "code",
   "execution_count": 1,
   "metadata": {},
   "outputs": [],
   "source": [
    "import numpy as np\n",
    "import matplotlib.pyplot as plt\n",
    "\n",
    "from neurnet import NeuralNetwork"
   ]
  },
  {
   "cell_type": "code",
   "execution_count": 3,
   "metadata": {},
   "outputs": [
    {
     "name": "stdout",
     "output_type": "stream",
     "text": [
      "(100, 1)\n",
      "(100, 1)\n"
     ]
    },
    {
     "name": "stderr",
     "output_type": "stream",
     "text": [
      "  0%|          | 0/4 [00:00<?, ?it/s]"
     ]
    },
    {
     "name": "stderr",
     "output_type": "stream",
     "text": [
      "\n"
     ]
    },
    {
     "ename": "AttributeError",
     "evalue": "'NeuralNetwork' object has no attribute 'n_neurons'",
     "output_type": "error",
     "traceback": [
      "\u001b[0;31m---------------------------------------------------------------------------\u001b[0m",
      "\u001b[0;31mAttributeError\u001b[0m                            Traceback (most recent call last)",
      "Cell \u001b[0;32mIn[3], line 23\u001b[0m\n\u001b[1;32m     20\u001b[0m cost_funct \u001b[38;5;241m=\u001b[39m \u001b[38;5;124m'\u001b[39m\u001b[38;5;124mmse\u001b[39m\u001b[38;5;124m'\u001b[39m\n\u001b[1;32m     22\u001b[0m ryc \u001b[38;5;241m=\u001b[39m NeuralNetwork(n_inputs, topology, activation_funcs, cost_funct)\n\u001b[0;32m---> 23\u001b[0m cost \u001b[38;5;241m=\u001b[39m \u001b[43mryc\u001b[49m\u001b[38;5;241;43m.\u001b[39;49m\u001b[43mtrain\u001b[49m\u001b[43m(\u001b[49m\u001b[43mX_test\u001b[49m\u001b[43m,\u001b[49m\u001b[43m \u001b[49m\u001b[43mY_test\u001b[49m\u001b[43m)\u001b[49m\n\u001b[1;32m     26\u001b[0m \u001b[38;5;66;03m# Plot\u001b[39;00m\n\u001b[1;32m     27\u001b[0m font \u001b[38;5;241m=\u001b[39m {\u001b[38;5;124m'\u001b[39m\u001b[38;5;124mfamily\u001b[39m\u001b[38;5;124m'\u001b[39m : \u001b[38;5;124m'\u001b[39m\u001b[38;5;124mserif\u001b[39m\u001b[38;5;124m'\u001b[39m,\n\u001b[1;32m     28\u001b[0m         \u001b[38;5;124m'\u001b[39m\u001b[38;5;124mweight\u001b[39m\u001b[38;5;124m'\u001b[39m : \u001b[38;5;124m'\u001b[39m\u001b[38;5;124mnormal\u001b[39m\u001b[38;5;124m'\u001b[39m,\n\u001b[1;32m     29\u001b[0m         \u001b[38;5;124m'\u001b[39m\u001b[38;5;124msize\u001b[39m\u001b[38;5;124m'\u001b[39m   : \u001b[38;5;241m16\u001b[39m}\n",
      "File \u001b[0;32m/media/ces/DATA/Documentos/Informatica/Programacion/Python/neural_network_from_scratch/neurnet.py:139\u001b[0m, in \u001b[0;36mNeuralNetwork.train\u001b[0;34m(self, X, Y, num_epochs, batch_size, learning_rate)\u001b[0m\n\u001b[1;32m    136\u001b[0m \u001b[38;5;28;01mfor\u001b[39;00m epoch \u001b[38;5;129;01min\u001b[39;00m tqdm(\u001b[38;5;28mrange\u001b[39m(\u001b[38;5;241m1\u001b[39m, num_epochs)):\n\u001b[1;32m    137\u001b[0m     \u001b[38;5;28;01mfor\u001b[39;00m x, y \u001b[38;5;129;01min\u001b[39;00m \u001b[38;5;28mzip\u001b[39m(X_batches,  Y_batches):\n\u001b[0;32m--> 139\u001b[0m         \u001b[38;5;28;43mself\u001b[39;49m\u001b[38;5;241;43m.\u001b[39;49m\u001b[43mbackpropagation\u001b[49m\u001b[43m(\u001b[49m\u001b[43mx\u001b[49m\u001b[43m,\u001b[49m\u001b[43my\u001b[49m\u001b[43m)\u001b[49m\n\u001b[1;32m    141\u001b[0m         \u001b[38;5;66;03m# Update every layer\u001b[39;00m\n\u001b[1;32m    142\u001b[0m         \u001b[38;5;28;01mfor\u001b[39;00m layer \u001b[38;5;129;01min\u001b[39;00m \u001b[38;5;28mself\u001b[39m\u001b[38;5;241m.\u001b[39mlayers:\n\u001b[1;32m    143\u001b[0m \n\u001b[1;32m    144\u001b[0m             \u001b[38;5;66;03m# Momentum\u001b[39;00m\n\u001b[0;32m   (...)\u001b[0m\n\u001b[1;32m    149\u001b[0m \n\u001b[1;32m    150\u001b[0m             \u001b[38;5;66;03m# Gradient descent\u001b[39;00m\n",
      "File \u001b[0;32m/media/ces/DATA/Documentos/Informatica/Programacion/Python/neural_network_from_scratch/neurnet.py:80\u001b[0m, in \u001b[0;36mNeuralNetwork.backpropagation\u001b[0;34m(self, X, Y)\u001b[0m\n\u001b[1;32m     77\u001b[0m \u001b[38;5;28mself\u001b[39m\u001b[38;5;241m.\u001b[39mforward(X)\n\u001b[1;32m     79\u001b[0m \u001b[38;5;66;03m# Last layer\u001b[39;00m\n\u001b[0;32m---> 80\u001b[0m L \u001b[38;5;241m=\u001b[39m \u001b[38;5;28;43mself\u001b[39;49m\u001b[38;5;241;43m.\u001b[39;49m\u001b[43mn_neurons\u001b[49m\u001b[38;5;241m-\u001b[39m\u001b[38;5;241m1\u001b[39m\n\u001b[1;32m     81\u001b[0m last_layer \u001b[38;5;241m=\u001b[39m \u001b[38;5;28mself\u001b[39m\u001b[38;5;241m.\u001b[39mnetwork[L]\n\u001b[1;32m     82\u001b[0m delta \u001b[38;5;241m=\u001b[39m \u001b[38;5;28mself\u001b[39m\u001b[38;5;241m.\u001b[39mgrad_cost(Y, last_layer\u001b[38;5;241m.\u001b[39mA)\u001b[38;5;241m*\u001b[39mlast_layer\u001b[38;5;241m.\u001b[39mgrad_activation_func(last_layer\u001b[38;5;241m.\u001b[39mZ)\n",
      "\u001b[0;31mAttributeError\u001b[0m: 'NeuralNetwork' object has no attribute 'n_neurons'"
     ]
    }
   ],
   "source": [
    "\"\"\"\n",
    "    EXAMPLE 1:  one-to-one fit numerical data\n",
    "\"\"\" \n",
    "\n",
    "def scalar_function(X):\n",
    "    return np.sin(X)\n",
    "\n",
    "n_inputs = 100\n",
    "noise = 0.2\n",
    "X_test = np.linspace(-10,10, n_inputs).reshape(n_inputs, 1)\n",
    "Y_test = scalar_function(X_test) + noise*np.random.randn(n_inputs,1)\n",
    "\n",
    "\n",
    "\n",
    "# Create the network\n",
    "topology = [2,3,4]\n",
    "activation_funcs = ['relu',\n",
    "                    'relu',\n",
    "                    'linear']\n",
    "cost_funct = 'mse'\n",
    "\n",
    "ryc = NeuralNetwork(n_inputs, topology, activation_funcs, cost_funct)\n",
    "cost = ryc.train(X_test, Y_test)\n",
    "\n",
    "\n",
    "# Plot\n",
    "font = {'family' : 'serif',\n",
    "        'weight' : 'normal',\n",
    "        'size'   : 16}\n",
    "\n",
    "plt.rc('text', usetex=True)\n",
    "plt.rc('font', **font)\n",
    "fig, ax = plt.subplots()\n",
    "        \n",
    "plt.plot(X_test, Y_test, 'o')\n",
    "plt.plot(X_test, scalar_function(X_test),\n",
    "          color=\"#aaaaaa\",\n",
    "          label=\"ground truth\")\n",
    "\n",
    "ax.set_xlabel(r\"$x$\")\n",
    "ax.set_ylabel(r\"$y$\")"
   ]
  },
  {
   "cell_type": "code",
   "execution_count": null,
   "metadata": {},
   "outputs": [],
   "source": []
  },
  {
   "cell_type": "code",
   "execution_count": null,
   "metadata": {},
   "outputs": [],
   "source": []
  },
  {
   "cell_type": "code",
   "execution_count": null,
   "metadata": {},
   "outputs": [],
   "source": []
  },
  {
   "cell_type": "code",
   "execution_count": null,
   "metadata": {},
   "outputs": [],
   "source": []
  }
 ],
 "metadata": {
  "kernelspec": {
   "display_name": "genv",
   "language": "python",
   "name": "python3"
  },
  "language_info": {
   "codemirror_mode": {
    "name": "ipython",
    "version": 3
   },
   "file_extension": ".py",
   "mimetype": "text/x-python",
   "name": "python",
   "nbconvert_exporter": "python",
   "pygments_lexer": "ipython3",
   "version": "3.12.2"
  }
 },
 "nbformat": 4,
 "nbformat_minor": 2
}
